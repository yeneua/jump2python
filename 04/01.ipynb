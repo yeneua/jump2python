{
 "cells": [
  {
   "cell_type": "markdown",
   "metadata": {},
   "source": [
    "# 함수"
   ]
  },
  {
   "cell_type": "code",
   "execution_count": 29,
   "metadata": {},
   "outputs": [
    {
     "name": "stdout",
     "output_type": "stream",
     "text": [
      "7\n"
     ]
    }
   ],
   "source": [
    "def add(a, b):\n",
    "    return a + b\n",
    "\n",
    "c = add(3, 4)\n",
    "print(c)"
   ]
  },
  {
   "cell_type": "markdown",
   "metadata": {},
   "source": [
    "## 매개변수와 인수\n",
    "- 매개변수(parameter) : 함수에 입력으로 전달된 값을 받는 변수, 함수에서 정의되어 사용되는 변수 (= 인자, 파라미터)\n",
    "- 인수(arguments) : 함수를 호출할 때 전달하는 입력값, 함수를 호출할 때 건네주는 변수"
   ]
  },
  {
   "cell_type": "code",
   "execution_count": 2,
   "metadata": {},
   "outputs": [
    {
     "data": {
      "text/plain": [
       "7"
      ]
     },
     "execution_count": 2,
     "metadata": {},
     "output_type": "execute_result"
    }
   ],
   "source": [
    "# 함수 정의\n",
    "def add(a, b): # a, b는 매개변수(파라미터)\n",
    "    return a + b\n",
    "\n",
    "# 함수 사용\n",
    "add(3, 4) # 3, 4는 인수"
   ]
  },
  {
   "cell_type": "markdown",
   "metadata": {},
   "source": [
    "## 1. 일반적인 함수 : 입력값O, 리턴값O "
   ]
  },
  {
   "cell_type": "code",
   "execution_count": 5,
   "metadata": {},
   "outputs": [
    {
     "name": "stdout",
     "output_type": "stream",
     "text": [
      "8\n"
     ]
    }
   ],
   "source": [
    "def add(a,b):\n",
    "    result = a+b\n",
    "    return result\n",
    "\n",
    "a = add(3,5)\n",
    "print(a)"
   ]
  },
  {
   "cell_type": "markdown",
   "metadata": {},
   "source": [
    "## 2. 입력값이 없는 함수"
   ]
  },
  {
   "cell_type": "code",
   "execution_count": 7,
   "metadata": {},
   "outputs": [
    {
     "name": "stdout",
     "output_type": "stream",
     "text": [
      "Hi\n"
     ]
    }
   ],
   "source": [
    "def say(): # 파라미터가 없음\n",
    "    return 'Hi'\n",
    "\n",
    "a = say() # a에 'Hi'라는 문자열이 대입되는 것\n",
    "# a = say('hi') # 오류남\n",
    "print(a)"
   ]
  },
  {
   "cell_type": "markdown",
   "metadata": {},
   "source": [
    "## 3. 리턴값이 없는 함수"
   ]
  },
  {
   "cell_type": "code",
   "execution_count": 9,
   "metadata": {},
   "outputs": [
    {
     "name": "stdout",
     "output_type": "stream",
     "text": [
      "2, 3의 합은 5입니다\n"
     ]
    }
   ],
   "source": [
    "def add(a, b):\n",
    "    print(\"%d, %d의 합은 %d입니다\" %(a, b, a+b))\n",
    "\n",
    "add(2, 3)"
   ]
  },
  {
   "cell_type": "code",
   "execution_count": 11,
   "metadata": {},
   "outputs": [
    {
     "name": "stdout",
     "output_type": "stream",
     "text": [
      "2, 5의 합은 7입니다\n",
      "None\n"
     ]
    }
   ],
   "source": [
    "def add(a, b):\n",
    "    print(\"%d, %d의 합은 %d입니다\" %(a, b, a+b))\n",
    "\n",
    "a = add(2, 5) # 출력값이 없기 때문에 None이 담김\n",
    "print(a) # 리턴값이 없음. None : 거짓을 나타내는 자료형"
   ]
  },
  {
   "cell_type": "markdown",
   "metadata": {},
   "source": [
    "print문은 그저 함수 구성 요소 중 하나인 '수행할 문장'에 해당하는것! <br/>\n",
    "리턴값은 return 명령어로만 받을 수 있음"
   ]
  },
  {
   "cell_type": "markdown",
   "metadata": {},
   "source": [
    "## 4. 입력값도, 리턴값도 없는 함수"
   ]
  },
  {
   "cell_type": "code",
   "execution_count": 13,
   "metadata": {},
   "outputs": [
    {
     "name": "stdout",
     "output_type": "stream",
     "text": [
      "Hi\n"
     ]
    }
   ],
   "source": [
    "def say():\n",
    "    print('Hi') # 입력값을 받아 수행하는 것x. 그저 수행할 문장이 print인 것\n",
    "\n",
    "say()"
   ]
  },
  {
   "cell_type": "markdown",
   "metadata": {},
   "source": [
    "## 매개변수를 지정하여 호출하기"
   ]
  },
  {
   "cell_type": "code",
   "execution_count": 15,
   "metadata": {},
   "outputs": [
    {
     "name": "stdout",
     "output_type": "stream",
     "text": [
      "4\n",
      "-2\n"
     ]
    }
   ],
   "source": [
    "def sub(a, b):\n",
    "    return a - b\n",
    "\n",
    "result = sub(a=7, b=3)\n",
    "print(result)\n",
    "\n",
    "result2 = sub(b=5, a=3) # 순서 상관없이 사용 가능\n",
    "print(result2)"
   ]
  },
  {
   "cell_type": "markdown",
   "metadata": {},
   "source": [
    "## 입력값이 몇개인지 모를때 여러개 입력받는 함수 만들기\n",
    "(*매개변수)"
   ]
  },
  {
   "cell_type": "code",
   "execution_count": 16,
   "metadata": {},
   "outputs": [
    {
     "name": "stdout",
     "output_type": "stream",
     "text": [
      "6\n",
      "55\n"
     ]
    }
   ],
   "source": [
    "def add_many(*args): # 입력값을 전부 모아 튜플을 만들어줌\n",
    "    result = 0\n",
    "    for i in args:\n",
    "        result += i\n",
    "    return result\n",
    "\n",
    "result1 = add_many(1,2,3)\n",
    "print(result1)\n",
    "\n",
    "result2 = add_many(1,2,3,4,5,6,7,8,9,10)\n",
    "print(result2)"
   ]
  },
  {
   "cell_type": "code",
   "execution_count": 17,
   "metadata": {},
   "outputs": [
    {
     "name": "stdout",
     "output_type": "stream",
     "text": [
      "15\n",
      "120\n"
     ]
    }
   ],
   "source": [
    "# choice 값 하나 받고, *args\n",
    "def add_mul(choice, *args):\n",
    "    if choice == \"add\":\n",
    "        result = 0\n",
    "        for i in args:\n",
    "            result += i\n",
    "    elif choice == 'mul':\n",
    "        result = 1\n",
    "        for i in args:\n",
    "            result *= i\n",
    "    return result\n",
    "\n",
    "result1 = add_mul('add', 1,2,3,4,5)\n",
    "print(result1)\n",
    "\n",
    "result2 = add_mul('mul', 1,2,3,4,5)\n",
    "print(result2)"
   ]
  },
  {
   "cell_type": "markdown",
   "metadata": {},
   "source": [
    "## 키워드 매개변수, kwargs"
   ]
  },
  {
   "cell_type": "markdown",
   "metadata": {},
   "source": [
    "매개변수 이름 앞에 `**`을 붙이면<br/>매개변수 kwargs는 딕셔너리가 되고<br/>모든 `key=value` 형태의 입력값이 그 딕셔너리에 저장됨"
   ]
  },
  {
   "cell_type": "code",
   "execution_count": 33,
   "metadata": {},
   "outputs": [
    {
     "name": "stdout",
     "output_type": "stream",
     "text": [
      "{'a': 1}\n",
      "1\n",
      "{'a': 'hi', 'name': 'foo', 'age': 3}\n",
      "hi\n"
     ]
    }
   ],
   "source": [
    "def print_kwargs(**kwargs):\n",
    "    print(kwargs)\n",
    "    print(kwargs['a']) # a만 따로 출력\n",
    "\n",
    "print_kwargs(a=1)\n",
    "# print_kwargs(1='a') key값 숫자X\n",
    "print_kwargs(a='hi', name='foo', age=3)"
   ]
  },
  {
   "cell_type": "code",
   "execution_count": 5,
   "metadata": {},
   "outputs": [
    {
     "name": "stdout",
     "output_type": "stream",
     "text": [
      "MyName is Ina\n"
     ]
    }
   ],
   "source": [
    "def introduceName(**kwargs):\n",
    "    for key, value in kwargs.items():\n",
    "        print(\"{0} is {1}\".format(key, value))\n",
    "\n",
    "introduceName(MyName='Ina')"
   ]
  },
  {
   "cell_type": "markdown",
   "metadata": {},
   "source": [
    "## 함수의 리턴값은 언제나 하나"
   ]
  },
  {
   "cell_type": "code",
   "execution_count": 34,
   "metadata": {},
   "outputs": [
    {
     "name": "stdout",
     "output_type": "stream",
     "text": [
      "(7, 12)\n",
      "<class 'tuple'>\n"
     ]
    }
   ],
   "source": [
    "def add_and_mul(a, b):\n",
    "    return a+b, a*b\n",
    "\n",
    "result = add_and_mul(3, 4)\n",
    "print(result)\n",
    "print(type(result))"
   ]
  },
  {
   "cell_type": "markdown",
   "metadata": {},
   "source": [
    "리턴값이 `a+b`, `a*b`인데 변수는 result 하나만 쓰임<br/>\n",
    "오류 발생하는거 아니야??<br/>\n",
    "리턴값은 하나이기 때문에<br/>\n",
    "`a+b`와 `a*b`는 튜플값 하나인 `(a+b, a*b)`로 리턴됨"
   ]
  },
  {
   "cell_type": "code",
   "execution_count": 35,
   "metadata": {},
   "outputs": [
    {
     "name": "stdout",
     "output_type": "stream",
     "text": [
      "7 12\n",
      "<class 'int'> <class 'int'>\n"
     ]
    }
   ],
   "source": [
    "def add_and_mul(a, b):\n",
    "    return a+b, a*b\n",
    "\n",
    "result1, result2 = add_and_mul(3, 4) # 하나의 튜플 값을 2개로 분리하여 받고 싶을 때\n",
    "print(result1, result2)\n",
    "print(type(result1), type(result2))"
   ]
  },
  {
   "cell_type": "code",
   "execution_count": 10,
   "metadata": {},
   "outputs": [
    {
     "name": "stdout",
     "output_type": "stream",
     "text": [
      "5\n"
     ]
    }
   ],
   "source": [
    "def add_and_mul(a,b):\n",
    "    return a+b # 리턴문 만나는 순간 빠져나옴. 함수가 끝남  \n",
    "    return a*b # 이 문장 실행 안됨\n",
    "\n",
    "result = add_and_mul(2,3)\n",
    "print(result)"
   ]
  },
  {
   "cell_type": "code",
   "execution_count": 36,
   "metadata": {},
   "outputs": [
    {
     "name": "stdout",
     "output_type": "stream",
     "text": [
      "None\n"
     ]
    }
   ],
   "source": [
    "def add_and_mul(a,b):\n",
    "    pass # return 안할랭\n",
    "print(add_and_mul(3,4))"
   ]
  },
  {
   "cell_type": "markdown",
   "metadata": {},
   "source": [
    "### 함수는 리턴문을 만나면 바로 빠져나감!"
   ]
  },
  {
   "cell_type": "code",
   "execution_count": 12,
   "metadata": {},
   "outputs": [
    {
     "name": "stdout",
     "output_type": "stream",
     "text": [
      "나의 별명은 야호 입니다\n"
     ]
    }
   ],
   "source": [
    "def say_nick(nick):\n",
    "    if nick == '바보':\n",
    "        return\n",
    "    print('나의 별명은 %s 입니다' %nick)\n",
    "\n",
    "say_nick('야호')\n",
    "say_nick('바보') # 리턴을 만나서 빠져나왔기 때문에 print문 출력안됨"
   ]
  },
  {
   "cell_type": "markdown",
   "metadata": {},
   "source": [
    "## 매개변수에 초기값 미리 설정하기"
   ]
  },
  {
   "cell_type": "code",
   "execution_count": 43,
   "metadata": {},
   "outputs": [
    {
     "name": "stdout",
     "output_type": "stream",
     "text": [
      "나의 이름은 박용용입니다\n",
      "나이는 27살입니다.\n",
      "남자입니다.\n",
      "나의 이름은 박용용2입니다\n",
      "나이는 30살입니다.\n",
      "남자입니다.\n",
      "나의 이름은 박용용3입니다\n",
      "나이는 30살입니다.\n",
      "여자입니다.\n"
     ]
    }
   ],
   "source": [
    "def say_myself(name, age, man=True):\n",
    "    print('나의 이름은 %s입니다' %name)\n",
    "    print('나이는 %d살입니다.' % age)\n",
    "    if man:\n",
    "        print('남자입니다.')\n",
    "    else:\n",
    "        print('여자입니다.')\n",
    "\n",
    "say_myself('박용용', 27) # man=True로 설정한 기본값으로 설정됨\n",
    "say_myself('박용용2', 30, True)\n",
    "say_myself('박용용3', 30, False) # 기본값이 아닌 경우엔 값 넣어주기"
   ]
  },
  {
   "cell_type": "code",
   "execution_count": 19,
   "metadata": {},
   "outputs": [
    {
     "ename": "SyntaxError",
     "evalue": "parameter without a default follows parameter with a default (212875758.py, line 1)",
     "output_type": "error",
     "traceback": [
      "\u001b[1;36m  Cell \u001b[1;32mIn[19], line 1\u001b[1;36m\u001b[0m\n\u001b[1;33m    def say_myself(name, man=True, age):\u001b[0m\n\u001b[1;37m                                   ^\u001b[0m\n\u001b[1;31mSyntaxError\u001b[0m\u001b[1;31m:\u001b[0m parameter without a default follows parameter with a default\n"
     ]
    }
   ],
   "source": [
    "def say_myself(name, man=True, age):\n",
    "    print('나의 이름은 %s입니다' %name)\n",
    "    print('나이는 %d살입니다.' % age)\n",
    "    if man:\n",
    "        print('남자입니다.')\n",
    "    else:\n",
    "        print('여자입니다.')\n",
    "\n",
    "say_myself('박용용', 27)"
   ]
  },
  {
   "cell_type": "markdown",
   "metadata": {},
   "source": [
    "초기값이 없는 매개변수는 초기값이 있는 매개변수 뒤에 사용 불가 <br/>\n",
    "초기화하려는 매개변수는 항상 뒤쪽!"
   ]
  },
  {
   "cell_type": "markdown",
   "metadata": {},
   "source": [
    "## 함수 안에서 선언한 변수의 효력 범위"
   ]
  },
  {
   "cell_type": "code",
   "execution_count": 1,
   "metadata": {},
   "outputs": [
    {
     "name": "stdout",
     "output_type": "stream",
     "text": [
      "2\n",
      "1\n"
     ]
    }
   ],
   "source": [
    "a = 1\n",
    "def vartest(a):\n",
    "    a = a + 1 # 지역변수 a -> 함수가 끝나면 없어짐\n",
    "    print(a)\n",
    "\n",
    "vartest(a)\n",
    "print(a) #print(a)에서 사용한 변수는 어디에도 선언X"
   ]
  },
  {
   "cell_type": "code",
   "execution_count": null,
   "metadata": {},
   "outputs": [],
   "source": [
    "def vartest(a):\n",
    "    a = a + 1 # 이 a는 4가 됨\n",
    "\n",
    "vartest(3)\n",
    "print(a) "
   ]
  },
  {
   "cell_type": "markdown",
   "metadata": {},
   "source": [
    "## 함수 안에서 함수 밖의 변수 변경 방법"
   ]
  },
  {
   "cell_type": "markdown",
   "metadata": {},
   "source": [
    "### 1. return 사용하기"
   ]
  },
  {
   "cell_type": "code",
   "execution_count": 26,
   "metadata": {},
   "outputs": [
    {
     "name": "stdout",
     "output_type": "stream",
     "text": [
      "2\n"
     ]
    }
   ],
   "source": [
    "a = 1J\n",
    "def vartest(a):\n",
    "    a=a+1\n",
    "    return a\n",
    "\n",
    "a = vartest(a) # 리턴값 a가 전역변수 a에 대입됨\n",
    "print(a)"
   ]
  },
  {
   "cell_type": "markdown",
   "metadata": {},
   "source": [
    "### 2. global 명령어 사용"
   ]
  },
  {
   "cell_type": "code",
   "execution_count": 27,
   "metadata": {},
   "outputs": [
    {
     "name": "stdout",
     "output_type": "stream",
     "text": [
      "2\n"
     ]
    }
   ],
   "source": [
    "a = 1\n",
    "def vartest():\n",
    "    global a # 이 함수 밖의 a를 사용하겠다는 뜻\n",
    "    a=a+1\n",
    "\n",
    "vartest()\n",
    "print(a)"
   ]
  },
  {
   "cell_type": "markdown",
   "metadata": {},
   "source": [
    "## lambda 람다 예약어"
   ]
  },
  {
   "cell_type": "markdown",
   "metadata": {},
   "source": [
    "`함수이름 = lambda 매개변수1, 매개변수2, ... : 매개변수를이용한표현식`<br/> 리턴 명령어가 없어도 표현식의 결과값 리턴함"
   ]
  },
  {
   "cell_type": "code",
   "execution_count": 28,
   "metadata": {},
   "outputs": [
    {
     "name": "stdout",
     "output_type": "stream",
     "text": [
      "7\n"
     ]
    }
   ],
   "source": [
    "add  = lambda a, b : a+b\n",
    "result = add(3,4)\n",
    "print(result) "
   ]
  },
  {
   "cell_type": "code",
   "execution_count": 12,
   "metadata": {},
   "outputs": [
    {
     "name": "stdout",
     "output_type": "stream",
     "text": [
      "7 15\n"
     ]
    }
   ],
   "source": [
    "# 람다함수 리스트에 담을 수 있음. 람다 함수 이름 안적어도됨\n",
    "\n",
    "a = [lambda a, b : a+b, lambda a, b : a*b]\n",
    "print(a[0](3,4), a[1](5,3))"
   ]
  },
  {
   "cell_type": "markdown",
   "metadata": {},
   "source": [
    "## Immutable vs Mutable"
   ]
  },
  {
   "cell_type": "markdown",
   "metadata": {},
   "source": [
    "immutable(변경 불가능한) : 정수, 실수, 문자열, 튜플"
   ]
  },
  {
   "cell_type": "code",
   "execution_count": 3,
   "metadata": {},
   "outputs": [
    {
     "name": "stdout",
     "output_type": "stream",
     "text": [
      "1\n"
     ]
    }
   ],
   "source": [
    "a = 1\n",
    "def vartest(a):\n",
    "    a = a + 1\n",
    "\n",
    "vartest(a)\n",
    "print(a)"
   ]
  },
  {
   "cell_type": "markdown",
   "metadata": {},
   "source": [
    "mutable(변경 가능한) : 리스트, 딕셔너리, 집합"
   ]
  },
  {
   "cell_type": "code",
   "execution_count": 4,
   "metadata": {},
   "outputs": [
    {
     "name": "stdout",
     "output_type": "stream",
     "text": [
      "[1, 2, 3, 4]\n"
     ]
    }
   ],
   "source": [
    "b = [1, 2, 3]\n",
    "def vartest(b):\n",
    "    b = b.append(4) # b.append에서 b 자체가 변함(mutable 자료형이니까). 그리고 리턴값이 없어 지역변수 b에는 None이 담김\n",
    "\n",
    "vartest(b)\n",
    "print(b)"
   ]
  },
  {
   "cell_type": "code",
   "execution_count": 5,
   "metadata": {},
   "outputs": [
    {
     "name": "stdout",
     "output_type": "stream",
     "text": [
      "hello\n"
     ]
    }
   ],
   "source": [
    "a = 'hello'\n",
    "def vartest(a):\n",
    "    a = a + 'hi'\n",
    "vartest(a)\n",
    "print(a)"
   ]
  },
  {
   "cell_type": "code",
   "execution_count": 6,
   "metadata": {},
   "outputs": [
    {
     "name": "stdout",
     "output_type": "stream",
     "text": [
      "None\n",
      "[1, 2, 3, 4, 5]\n"
     ]
    }
   ],
   "source": [
    "a = [1,2,3,4]\n",
    "\n",
    "result = a.append(5) # append는 리턴값이 없음\n",
    "print(result)\n",
    "print(a)"
   ]
  },
  {
   "cell_type": "code",
   "execution_count": 7,
   "metadata": {},
   "outputs": [
    {
     "name": "stdout",
     "output_type": "stream",
     "text": [
      "4\n",
      "[1, 2, 3]\n"
     ]
    }
   ],
   "source": [
    "a = [1,2,3,4]\n",
    "\n",
    "result = a.pop()\n",
    "print(result)\n",
    "print(a)"
   ]
  },
  {
   "cell_type": "code",
   "execution_count": 8,
   "metadata": {},
   "outputs": [
    {
     "name": "stdout",
     "output_type": "stream",
     "text": [
      "None\n",
      "[10, 1, 2, 3, 4]\n"
     ]
    }
   ],
   "source": [
    "a = [1,2,3,4]\n",
    "\n",
    "result = a.insert(0,10) # 0번 자리에 10을 넣음. insert는 변형하는 행위일뿐\n",
    "print(result)\n",
    "print(a)"
   ]
  },
  {
   "cell_type": "code",
   "execution_count": 9,
   "metadata": {},
   "outputs": [
    {
     "name": "stdout",
     "output_type": "stream",
     "text": [
      "3\n"
     ]
    }
   ],
   "source": [
    "b = [1,2,3]\n",
    "def vartest(b):\n",
    "    b = b.pop()\n",
    "    return b\n",
    "\n",
    "b = vartest(b)\n",
    "print(b)"
   ]
  }
 ],
 "metadata": {
  "kernelspec": {
   "display_name": "Python 3",
   "language": "python",
   "name": "python3"
  },
  "language_info": {
   "codemirror_mode": {
    "name": "ipython",
    "version": 3
   },
   "file_extension": ".py",
   "mimetype": "text/x-python",
   "name": "python",
   "nbconvert_exporter": "python",
   "pygments_lexer": "ipython3",
   "version": "3.12.8"
  }
 },
 "nbformat": 4,
 "nbformat_minor": 2
}
