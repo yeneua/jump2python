{
 "cells": [
  {
   "cell_type": "markdown",
   "metadata": {},
   "source": [
    "# 패키지"
   ]
  },
  {
   "cell_type": "markdown",
   "metadata": {},
   "source": [
    "관련 있는 모듈(`.py`)의 집합"
   ]
  },
  {
   "attachments": {
    "image.png": {
     "image/png": "[encoded data removed]"
    }
   },
   "cell_type": "markdown",
   "metadata": {},
   "source": [
    "![image.png](attachment:image.png)"
   ]
  },
  {
   "cell_type": "code",
   "execution_count": null,
   "metadata": {},
   "outputs": [],
   "source": [
    "# echo.py\n",
    "def echo_test():\n",
    "    print('echo')"
   ]
  },
  {
   "cell_type": "code",
   "execution_count": 1,
   "metadata": {},
   "outputs": [],
   "source": [
    "# render.py\n",
    "def render_test():\n",
    "    print('render')"
   ]
  },
  {
   "cell_type": "markdown",
   "metadata": {},
   "source": [
    "## 패키지 내 함수 실행하기"
   ]
  },
  {
   "cell_type": "code",
   "execution_count": 3,
   "metadata": {},
   "outputs": [
    {
     "name": "stdout",
     "output_type": "stream",
     "text": [
      "echo\n"
     ]
    }
   ],
   "source": [
    "# 명령 프롬프트 - 파이썬 인터프리터에서 실행\n",
    "\n",
    "import game.sound.echo\n",
    "game.sound.echo.echo_test()"
   ]
  },
  {
   "cell_type": "code",
   "execution_count": 4,
   "metadata": {},
   "outputs": [
    {
     "name": "stdout",
     "output_type": "stream",
     "text": [
      "echo\n"
     ]
    }
   ],
   "source": [
    "from game.sound import echo\n",
    "echo.echo_test()"
   ]
  },
  {
   "cell_type": "code",
   "execution_count": 5,
   "metadata": {},
   "outputs": [
    {
     "name": "stdout",
     "output_type": "stream",
     "text": [
      "echo\n"
     ]
    }
   ],
   "source": [
    "from game.sound.echo import echo_test\n",
    "echo_test()"
   ]
  },
  {
   "cell_type": "markdown",
   "metadata": {},
   "source": [
    "도트 연산자 사용해서 `import a.b.c`처럼 작성할때 마지막 항목인 c는 반드시 모듈 또는 패키지여야 함(함수 불가!)"
   ]
  },
  {
   "cell_type": "markdown",
   "metadata": {},
   "source": [
    "`import game.sound.echo.echo_test`<br/> `import game\\n game.sound.echo.echo_test()` 불가"
   ]
  },
  {
   "cell_type": "markdown",
   "metadata": {},
   "source": [
    "## `__init__.py`의 용도"
   ]
  },
  {
   "cell_type": "markdown",
   "metadata": {},
   "source": [
    "해당 디렉토리가 패키지의 일부임을 알려주는 역할<br/>\n",
    "game, sound, graphic 등 패키지에 포함된 디렉토리에 해당 파일이 없다면 패키지로 인식X"
   ]
  },
  {
   "cell_type": "markdown",
   "metadata": {},
   "source": [
    "### 패키지 변수 및 함수 정의"
   ]
  },
  {
   "cell_type": "code",
   "execution_count": null,
   "metadata": {},
   "outputs": [],
   "source": [
    "# game/__init__.py\n",
    "\n",
    "VERSION = 3.5\n",
    "def print_version_info():\n",
    "    print(f'The version of this game is {VERSION}.')"
   ]
  },
  {
   "cell_type": "code",
   "execution_count": null,
   "metadata": {},
   "outputs": [],
   "source": [
    "# 파이썬 인터프리터에서\n",
    "import game\n",
    "print(game.VERSION)\n",
    "\n",
    "game.print_version_info()"
   ]
  },
  {
   "cell_type": "markdown",
   "metadata": {},
   "source": [
    "### 패키지 내 모듈을 미리 import"
   ]
  },
  {
   "cell_type": "code",
   "execution_count": null,
   "metadata": {},
   "outputs": [],
   "source": [
    "# game/__init__.py\n",
    "\n",
    "from .graphic.render import render_test\n",
    "\n",
    "VERSION = 3.5\n",
    "\n",
    "def print_version_info():\n",
    "    print(f'The version of this game is {VERSION}.')"
   ]
  },
  {
   "cell_type": "code",
   "execution_count": null,
   "metadata": {},
   "outputs": [],
   "source": [
    "# 파이썬 인터프리터에서\n",
    "import game\n",
    "game.render_test()"
   ]
  },
  {
   "cell_type": "markdown",
   "metadata": {},
   "source": [
    "`__init__.py`에서 `render_test`를 이미 import했기 때문에 바로 사용 가능"
   ]
  },
  {
   "cell_type": "markdown",
   "metadata": {},
   "source": [
    "### 패키지 초기화"
   ]
  },
  {
   "cell_type": "markdown",
   "metadata": {},
   "source": [
    "`__init__.py` 패키지 처음 불러올때 실행되어야 하는 코드 작성"
   ]
  },
  {
   "cell_type": "code",
   "execution_count": null,
   "metadata": {},
   "outputs": [],
   "source": [
    "# game/__init__.py\n",
    "\n",
    "from .graphic.render import render_test\n",
    "\n",
    "VERSION = 3.5\n",
    "\n",
    "def print_version_info():\n",
    "    print(f'The version of this game is {VERSION}.')\n",
    "\n",
    "print(\"Initializing game...\")"
   ]
  },
  {
   "cell_type": "code",
   "execution_count": null,
   "metadata": {},
   "outputs": [],
   "source": [
    "# 파이썬 인터프리터에서\n",
    "import game\n",
    ">>> \"Initializing game...\""
   ]
  },
  {
   "cell_type": "code",
   "execution_count": null,
   "metadata": {},
   "outputs": [],
   "source": [
    "# 파이썬 인터프리터에서\n",
    "from game.graphic.render import render_test\n",
    ">>> \"Initializing game...\""
   ]
  },
  {
   "cell_type": "code",
   "execution_count": null,
   "metadata": {},
   "outputs": [],
   "source": [
    "# 파이썬 인터프리터에서\n",
    "import game\n",
    ">>> \"Initializing game...\"\n",
    "from game.graphic.render import render_test"
   ]
  },
  {
   "cell_type": "markdown",
   "metadata": {},
   "source": [
    "한번 샐행된 초기화 코드는 다시 import 수행해도 실행되지 않음!"
   ]
  },
  {
   "cell_type": "markdown",
   "metadata": {},
   "source": [
    "## `__all__`"
   ]
  },
  {
   "cell_type": "code",
   "execution_count": 1,
   "metadata": {},
   "outputs": [
    {
     "ename": "NameError",
     "evalue": "name 'echo' is not defined",
     "output_type": "error",
     "traceback": [
      "\u001b[1;31m---------------------------------------------------------------------------\u001b[0m",
      "\u001b[1;31mNameError\u001b[0m                                 Traceback (most recent call last)",
      "Cell \u001b[1;32mIn[1], line 3\u001b[0m\n\u001b[0;32m      1\u001b[0m \u001b[38;5;66;03m# 파이썬 인터프리터에서\u001b[39;00m\n\u001b[0;32m      2\u001b[0m \u001b[38;5;28;01mfrom\u001b[39;00m\u001b[38;5;250m \u001b[39m\u001b[38;5;21;01mgame\u001b[39;00m\u001b[38;5;21;01m.\u001b[39;00m\u001b[38;5;21;01msound\u001b[39;00m\u001b[38;5;250m \u001b[39m\u001b[38;5;28;01mimport\u001b[39;00m \u001b[38;5;241m*\u001b[39m\n\u001b[1;32m----> 3\u001b[0m \u001b[43mecho\u001b[49m\u001b[38;5;241m.\u001b[39mecho_test()\n",
      "\u001b[1;31mNameError\u001b[0m: name 'echo' is not defined"
     ]
    }
   ],
   "source": [
    "# 파이썬 인터프리터에서\n",
    "from game.sound import *\n",
    "echo.echo_test()"
   ]
  },
  {
   "cell_type": "markdown",
   "metadata": {},
   "source": [
    "`*`는 `__init__.py` 파일의 `__all__` 변수를 참조해서 가져옴"
   ]
  },
  {
   "cell_type": "markdown",
   "metadata": {},
   "source": [
    "특정 디렉토리의 모듈을 `*`을 사용하여 import  할 때<br/>\n",
    "해당 디렉토리 `__init__.py`파일에 `__all__`변수를 설정하여 import 가능한 모듈 정의 해주어야함"
   ]
  },
  {
   "cell_type": "code",
   "execution_count": 2,
   "metadata": {},
   "outputs": [],
   "source": [
    "# game/sound/__init__.py\n",
    "__all__ = ['echo']"
   ]
  },
  {
   "cell_type": "markdown",
   "metadata": {},
   "source": [
    "`from game.sound.echo import *`은 `__all__`과 상관없이 echo.py 모두 import 됨<br/>\n"
   ]
  },
  {
   "cell_type": "markdown",
   "metadata": {},
   "source": [
    "`from a.b.c import *`에서 마지막 항목인 c가 모듈인 때는 `__all__`과 관계없이 무조건 import됨"
   ]
  },
  {
   "cell_type": "markdown",
   "metadata": {},
   "source": [
    "## relative 패키지"
   ]
  },
  {
   "cell_type": "code",
   "execution_count": 3,
   "metadata": {},
   "outputs": [],
   "source": [
    "# render.py 모듈에서 sound 디렉토리 echo.py 모듈 사용\n",
    "# game/graphic/render.py\n",
    "from game.sound.echo import echo_test\n",
    "\n",
    "def render_test():\n",
    "    print('render')\n",
    "    echo_test()"
   ]
  },
  {
   "cell_type": "code",
   "execution_count": 5,
   "metadata": {},
   "outputs": [
    {
     "name": "stdout",
     "output_type": "stream",
     "text": [
      "render\n"
     ]
    }
   ],
   "source": [
    "# 파이썬 인터프리터에서\n",
    "from game.graphic.render import render_test\n",
    "render_test()\n",
    "\n",
    "'''\n",
    "render\n",
    "echo\n",
    "'''"
   ]
  },
  {
   "cell_type": "markdown",
   "metadata": {},
   "source": [
    "### relative하게 import 하기"
   ]
  },
  {
   "cell_type": "code",
   "execution_count": null,
   "metadata": {},
   "outputs": [],
   "source": [
    "# game/graphic/render.py\n",
    "from ..sound.echo import echo_test"
   ]
  },
  {
   "cell_type": "markdown",
   "metadata": {},
   "source": [
    "## as 사용"
   ]
  },
  {
   "cell_type": "code",
   "execution_count": null,
   "metadata": {},
   "outputs": [],
   "source": [
    "import mod3 as m\n",
    "m.add(1,2)"
   ]
  }
 ],
 "metadata": {
  "kernelspec": {
   "display_name": "Python 3",
   "language": "python",
   "name": "python3"
  },
  "language_info": {
   "codemirror_mode": {
    "name": "ipython",
    "version": 3
   },
   "file_extension": ".py",
   "mimetype": "text/x-python",
   "name": "python",
   "nbconvert_exporter": "python",
   "pygments_lexer": "ipython3",
   "version": "3.12.8"
  }
 },
 "nbformat": 4,
 "nbformat_minor": 2
}
