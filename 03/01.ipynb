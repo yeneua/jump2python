{
 "cells": [
  {
   "cell_type": "markdown",
   "metadata": {},
   "source": [
    "# if문"
   ]
  },
  {
   "cell_type": "markdown",
   "metadata": {},
   "source": [
    "indentation(들여쓰기)으로 구분!!"
   ]
  },
  {
   "cell_type": "code",
   "execution_count": 24,
   "metadata": {},
   "outputs": [
    {
     "name": "stdout",
     "output_type": "stream",
     "text": [
      "택시 타삼\n"
     ]
    }
   ],
   "source": [
    "money = True\n",
    "if money:\n",
    "    print('택시 타삼')\n",
    "else:\n",
    "    print('걸어가삼')"
   ]
  },
  {
   "cell_type": "code",
   "execution_count": 2,
   "metadata": {},
   "outputs": [
    {
     "data": {
      "text/plain": [
       "True"
      ]
     },
     "execution_count": 2,
     "metadata": {},
     "output_type": "execute_result"
    }
   ],
   "source": [
    "x, y = 3, 2\n",
    "x > y"
   ]
  },
  {
   "cell_type": "code",
   "execution_count": 3,
   "metadata": {},
   "outputs": [
    {
     "data": {
      "text/plain": [
       "False"
      ]
     },
     "execution_count": 3,
     "metadata": {},
     "output_type": "execute_result"
    }
   ],
   "source": [
    "x == y"
   ]
  },
  {
   "cell_type": "code",
   "execution_count": 4,
   "metadata": {},
   "outputs": [
    {
     "data": {
      "text/plain": [
       "True"
      ]
     },
     "execution_count": 4,
     "metadata": {},
     "output_type": "execute_result"
    }
   ],
   "source": [
    "x != y"
   ]
  },
  {
   "cell_type": "code",
   "execution_count": 6,
   "metadata": {},
   "outputs": [
    {
     "name": "stdout",
     "output_type": "stream",
     "text": [
      "택시 고고\n"
     ]
    }
   ],
   "source": [
    "# 만약 3000원 이상의 돈을 가지고 있으면  택시를 타고 가고, 그렇지 않으면 걸어가라.\n",
    "money = 3000\n",
    "if money >= 3000:\n",
    "    print('택시 고고')\n",
    "else:\n",
    "    print('걷기')"
   ]
  },
  {
   "cell_type": "code",
   "execution_count": 9,
   "metadata": {},
   "outputs": [
    {
     "name": "stdout",
     "output_type": "stream",
     "text": [
      "택시 고고\n"
     ]
    }
   ],
   "source": [
    "# 돈이 3000원 이상이 있거나 카드가 있다면 택시를 타고 가고, 그렇지 않으면 걸어가라\n",
    "\n",
    "money = 1500\n",
    "card = True\n",
    "\n",
    "if money >= 3000 or card:\n",
    "    print('택시 고고')\n",
    "else:\n",
    "    print('걷기')"
   ]
  },
  {
   "cell_type": "markdown",
   "metadata": {},
   "source": [
    "## in, not in"
   ]
  },
  {
   "cell_type": "code",
   "execution_count": 26,
   "metadata": {},
   "outputs": [
    {
     "data": {
      "text/plain": [
       "True"
      ]
     },
     "execution_count": 26,
     "metadata": {},
     "output_type": "execute_result"
    }
   ],
   "source": [
    "1 in [1, 2, 3] # 리스트"
   ]
  },
  {
   "cell_type": "code",
   "execution_count": 11,
   "metadata": {},
   "outputs": [
    {
     "data": {
      "text/plain": [
       "False"
      ]
     },
     "execution_count": 11,
     "metadata": {},
     "output_type": "execute_result"
    }
   ],
   "source": [
    "1 not in [1, 2, 3]"
   ]
  },
  {
   "cell_type": "code",
   "execution_count": 25,
   "metadata": {},
   "outputs": [
    {
     "data": {
      "text/plain": [
       "True"
      ]
     },
     "execution_count": 25,
     "metadata": {},
     "output_type": "execute_result"
    }
   ],
   "source": [
    "'a' in ('a', 'b', 'c') # 튜플"
   ]
  },
  {
   "cell_type": "code",
   "execution_count": 15,
   "metadata": {},
   "outputs": [
    {
     "data": {
      "text/plain": [
       "True"
      ]
     },
     "execution_count": 27,
     "metadata": {},
     "output_type": "execute_result"
    }
   ],
   "source": [
    "'j' not in 'python' # 문자열"
   ]
  },
  {
   "cell_type": "code",
   "execution_count": 17,
   "metadata": {},
   "outputs": [
    {
     "name": "stdout",
     "output_type": "stream",
     "text": [
      "택\n"
     ]
    }
   ],
   "source": [
    "# 만약 주머니에 돈이 있으면 택시를 타고 가고, 없으면 걸어가라\n",
    "\n",
    "pocket = ['money', 'phone', 'key']\n",
    "\n",
    "if 'money' in pocket:\n",
    "    print('택')\n",
    "else:\n",
    "    print('걸어가삼')"
   ]
  },
  {
   "cell_type": "markdown",
   "metadata": {},
   "source": [
    "## pass : 조건문에서 아무일도 하지 않게 설정"
   ]
  },
  {
   "cell_type": "code",
   "execution_count": 18,
   "metadata": {},
   "outputs": [],
   "source": [
    "pocket = ['phone', 'money', 'key']\n",
    "\n",
    "if 'money' in pocket:\n",
    "    pass\n",
    "else:\n",
    "    print('카드 꺼내삼')"
   ]
  },
  {
   "cell_type": "markdown",
   "metadata": {},
   "source": [
    "## elif : 다양한 조건 판단"
   ]
  },
  {
   "cell_type": "code",
   "execution_count": 19,
   "metadata": {},
   "outputs": [
    {
     "name": "stdout",
     "output_type": "stream",
     "text": [
      "택시2\n"
     ]
    }
   ],
   "source": [
    "# 주머니에 돈이 있으면 택시를 타고 가고, 주머니에 돈은 없지만 카드가 있으면 택시를 타고 가고, 돈도 없고 카드도 없으면 걸어가라\n",
    "\n",
    "pocket = ['coin', 'card', 'key']\n",
    "\n",
    "if 'money' in pocket:\n",
    "    print('택시1')\n",
    "elif 'card' in pocket:\n",
    "    print('택시2')\n",
    "else:\n",
    "    print('걸어가라')"
   ]
  },
  {
   "cell_type": "markdown",
   "metadata": {},
   "source": [
    "## if문 한줄로 작성"
   ]
  },
  {
   "cell_type": "code",
   "execution_count": 20,
   "metadata": {},
   "outputs": [],
   "source": [
    "pocket = ['paper', 'money', 'cellphone']\n",
    "if 'money' in pocket: pass\n",
    "else: print('카드 꺼내삼')"
   ]
  },
  {
   "cell_type": "markdown",
   "metadata": {},
   "source": [
    "## 조건부 표현식"
   ]
  },
  {
   "cell_type": "code",
   "execution_count": 22,
   "metadata": {},
   "outputs": [],
   "source": [
    "score = 0\n",
    "\n",
    "if score >= 60:\n",
    "    message = 'success'\n",
    "else:\n",
    "    message = 'failure'"
   ]
  },
  {
   "cell_type": "markdown",
   "metadata": {},
   "source": [
    "변수 = 참인 경우 값 if 조건문 else 거짓인 경우 값"
   ]
  },
  {
   "cell_type": "code",
   "execution_count": 23,
   "metadata": {},
   "outputs": [],
   "source": [
    "message = 'success' if score >= 60 else 'failure'"
   ]
  },
  {
   "cell_type": "markdown",
   "metadata": {},
   "source": [
    "## 자료형의 참거짓"
   ]
  },
  {
   "cell_type": "code",
   "execution_count": 28,
   "metadata": {},
   "outputs": [
    {
     "name": "stdout",
     "output_type": "stream",
     "text": [
      "참임\n"
     ]
    }
   ],
   "source": [
    "a = 'python'\n",
    "if a:\n",
    "    print('참임')"
   ]
  },
  {
   "cell_type": "code",
   "execution_count": 30,
   "metadata": {},
   "outputs": [
    {
     "name": "stdout",
     "output_type": "stream",
     "text": [
      "거짓임\n"
     ]
    }
   ],
   "source": [
    "a = ''\n",
    "if a:\n",
    "    print('참임')\n",
    "else:\n",
    "    print('거짓임')"
   ]
  }
 ],
 "metadata": {
  "kernelspec": {
   "display_name": "Python 3",
   "language": "python",
   "name": "python3"
  },
  "language_info": {
   "codemirror_mode": {
    "name": "ipython",
    "version": 3
   },
   "file_extension": ".py",
   "mimetype": "text/x-python",
   "name": "python",
   "nbconvert_exporter": "python",
   "pygments_lexer": "ipython3",
   "version": "3.12.8"
  }
 },
 "nbformat": 4,
 "nbformat_minor": 2
}
